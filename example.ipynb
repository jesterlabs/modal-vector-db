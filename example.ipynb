{
 "cells": [
  {
   "cell_type": "code",
   "execution_count": 1,
   "metadata": {},
   "outputs": [],
   "source": [
    "from vdb import ModalVectorDB, app\n",
    "import json\n",
    "from _embedders.openai import OpenAIEmbedder\n",
    "from _embedders.base import EmbedderConfig\n",
    "\n",
    "openai_embedder = OpenAIEmbedder(model_name=\"text-embedding-3-small\")\n",
    "vdb = ModalVectorDB(name=\"pokemon_two_db\", embedder_config=EmbedderConfig(name=\"OpenAIEmbedder\", dims=384, params={\"model_name\": \"text-embedding-3-small\"}))\n",
    "\n"
   ]
  },
  {
   "cell_type": "code",
   "execution_count": 7,
   "metadata": {},
   "outputs": [],
   "source": [
    "import requests\n",
    "pokemon_data = requests.get(\"https://raw.githubusercontent.com/Purukitto/pokemon-data.json/refs/heads/master/pokedex.json\").json()\n",
    "with open(\"data/pokemon.json\", \"w\") as f:\n",
    "    json.dump(pokemon_data, f)\n"
   ]
  },
  {
   "cell_type": "code",
   "execution_count": 3,
   "metadata": {},
   "outputs": [
    {
     "ename": "NotFoundError",
     "evalue": "Class not found in app",
     "output_type": "error",
     "traceback": [
      "\u001b[0;31m---------------------------------------------------------------------------\u001b[0m",
      "\u001b[0;31mNotFoundError\u001b[0m                             Traceback (most recent call last)",
      "Cell \u001b[0;32mIn[3], line 2\u001b[0m\n\u001b[1;32m      1\u001b[0m \u001b[38;5;28;01mwith\u001b[39;00m app\u001b[38;5;241m.\u001b[39mrun():\n\u001b[0;32m----> 2\u001b[0m     \u001b[43mvdb\u001b[49m\u001b[38;5;241;43m.\u001b[39;49m\u001b[43minsert\u001b[49m\u001b[38;5;241;43m.\u001b[39;49m\u001b[43mremote\u001b[49m\u001b[43m(\u001b[49m\u001b[43mmetadatas\u001b[49m\u001b[38;5;241;43m=\u001b[39;49m\u001b[43m[\u001b[49m\u001b[43mpokemon_data\u001b[49m\u001b[43m[\u001b[49m\u001b[38;5;241;43m0\u001b[39;49m\u001b[43m]\u001b[49m\u001b[43m,\u001b[49m\u001b[43m \u001b[49m\u001b[43mpokemon_data\u001b[49m\u001b[43m[\u001b[49m\u001b[38;5;241;43m1\u001b[39;49m\u001b[43m]\u001b[49m\u001b[43m]\u001b[49m\u001b[43m)\u001b[49m\n\u001b[1;32m      3\u001b[0m     \u001b[38;5;28mprint\u001b[39m(vdb\u001b[38;5;241m.\u001b[39mquery\u001b[38;5;241m.\u001b[39mremote(\u001b[38;5;124m\"\u001b[39m\u001b[38;5;124mpikachu\u001b[39m\u001b[38;5;124m\"\u001b[39m))\n",
      "File \u001b[0;32m/opt/anaconda3/envs/modal-vectordb-env/lib/python3.11/site-packages/synchronicity/synchronizer.py:592\u001b[0m, in \u001b[0;36mSynchronizer._wrap_proxy_method.<locals>.proxy_method\u001b[0;34m(self, *args, **kwargs)\u001b[0m\n\u001b[1;32m    590\u001b[0m instance \u001b[38;5;241m=\u001b[39m \u001b[38;5;28mself\u001b[39m\u001b[38;5;241m.\u001b[39m\u001b[38;5;18m__dict__\u001b[39m[synchronizer_self\u001b[38;5;241m.\u001b[39m_original_attr]\n\u001b[1;32m    591\u001b[0m \u001b[38;5;28;01mtry\u001b[39;00m:\n\u001b[0;32m--> 592\u001b[0m     \u001b[38;5;28;01mreturn\u001b[39;00m \u001b[43mwrapped_method\u001b[49m\u001b[43m(\u001b[49m\u001b[43minstance\u001b[49m\u001b[43m,\u001b[49m\u001b[43m \u001b[49m\u001b[38;5;241;43m*\u001b[39;49m\u001b[43margs\u001b[49m\u001b[43m,\u001b[49m\u001b[43m \u001b[49m\u001b[38;5;241;43m*\u001b[39;49m\u001b[38;5;241;43m*\u001b[39;49m\u001b[43mkwargs\u001b[49m\u001b[43m)\u001b[49m\n\u001b[1;32m    593\u001b[0m \u001b[38;5;28;01mexcept\u001b[39;00m UserCodeException \u001b[38;5;28;01mas\u001b[39;00m uc_exc:\n\u001b[1;32m    594\u001b[0m     uc_exc\u001b[38;5;241m.\u001b[39mexc\u001b[38;5;241m.\u001b[39m__suppress_context__ \u001b[38;5;241m=\u001b[39m \u001b[38;5;28;01mTrue\u001b[39;00m\n",
      "File \u001b[0;32m/opt/anaconda3/envs/modal-vectordb-env/lib/python3.11/site-packages/synchronicity/combined_types.py:29\u001b[0m, in \u001b[0;36mFunctionWithAio.__call__\u001b[0;34m(self, *args, **kwargs)\u001b[0m\n\u001b[1;32m     27\u001b[0m \u001b[38;5;28;01mexcept\u001b[39;00m UserCodeException \u001b[38;5;28;01mas\u001b[39;00m uc_exc:\n\u001b[1;32m     28\u001b[0m     uc_exc\u001b[38;5;241m.\u001b[39mexc\u001b[38;5;241m.\u001b[39m__suppress_context__ \u001b[38;5;241m=\u001b[39m \u001b[38;5;28;01mTrue\u001b[39;00m\n\u001b[0;32m---> 29\u001b[0m     \u001b[38;5;28;01mraise\u001b[39;00m uc_exc\u001b[38;5;241m.\u001b[39mexc\n",
      "File \u001b[0;32m<ta-01JK3V5RJZ833ZK8XYQ39AVPBY>:/root/vdb.py:32\u001b[0m, in \u001b[0;36minsert\u001b[0;34m()\u001b[0m\n",
      "File \u001b[0;32m<ta-01JK3V5RJZ833ZK8XYQ39AVPBY>:/root/duckvdb.py:58\u001b[0m, in \u001b[0;36mwrite\u001b[0;34m()\u001b[0m\n",
      "File \u001b[0;32m<ta-01JK3V5RJZ833ZK8XYQ39AVPBY>:/usr/local/lib/python3.11/site-packages/pandas/core/frame.py:778\u001b[0m, in \u001b[0;36m__init__\u001b[0;34m()\u001b[0m\n",
      "File \u001b[0;32m<ta-01JK3V5RJZ833ZK8XYQ39AVPBY>:/usr/local/lib/python3.11/site-packages/pandas/core/internals/construction.py:481\u001b[0m, in \u001b[0;36mdict_to_mgr\u001b[0;34m()\u001b[0m\n",
      "File \u001b[0;32m<ta-01JK3V5RJZ833ZK8XYQ39AVPBY>:/usr/local/lib/python3.11/site-packages/pandas/core/internals/construction.py:481\u001b[0m, in \u001b[0;36m<listcomp>\u001b[0;34m()\u001b[0m\n",
      "File \u001b[0;32m<ta-01JK3V5RJZ833ZK8XYQ39AVPBY>:/usr/local/lib/python3.11/site-packages/pandas/core/common.py:306\u001b[0m, in \u001b[0;36mmaybe_iterable_to_list\u001b[0;34m()\u001b[0m\n",
      "File \u001b[0;32m<ta-01JK3V5RJZ833ZK8XYQ39AVPBY>:/pkg/modal/_utils/async_utils.py:384\u001b[0m, in \u001b[0;36m__iter__\u001b[0;34m()\u001b[0m\n",
      "File \u001b[0;32m<ta-01JK3V5RJZ833ZK8XYQ39AVPBY>:/pkg/modal/_utils/async_utils.py:463\u001b[0m, in \u001b[0;36mrun_async_gen\u001b[0;34m()\u001b[0m\n",
      "File \u001b[0;32m<ta-01JK3V5RJZ833ZK8XYQ39AVPBY>:/pkg/synchronicity/async_utils.py:85\u001b[0m, in \u001b[0;36mrun\u001b[0;34m()\u001b[0m\n",
      "File \u001b[0;32m<ta-01JK3V5RJZ833ZK8XYQ39AVPBY>:/usr/local/lib/python3.11/asyncio/base_events.py:650\u001b[0m, in \u001b[0;36mrun_until_complete\u001b[0;34m()\u001b[0m\n",
      "File \u001b[0;32m<ta-01JK3V5RJZ833ZK8XYQ39AVPBY>:/pkg/synchronicity/async_utils.py:51\u001b[0m, in \u001b[0;36mwrapper_coro\u001b[0;34m()\u001b[0m\n",
      "File \u001b[0;32m<ta-01JK3V5RJZ833ZK8XYQ39AVPBY>:/pkg/modal/_utils/async_utils.py:307\u001b[0m, in \u001b[0;36masend\u001b[0;34m()\u001b[0m\n",
      "File \u001b[0;32m<ta-01JK3V5RJZ833ZK8XYQ39AVPBY>:/pkg/modal/parallel_map.py:351\u001b[0m, in \u001b[0;36m_map_async\u001b[0;34m()\u001b[0m\n",
      "File \u001b[0;32m<ta-01JK3V5RJZ833ZK8XYQ39AVPBY>:/pkg/synchronicity/synchronizer.py:427\u001b[0m, in \u001b[0;36m_run_generator_async\u001b[0;34m()\u001b[0m\n",
      "File \u001b[0;32m<ta-01JK3V5RJZ833ZK8XYQ39AVPBY>:/pkg/modal/object.py:263\u001b[0m, in \u001b[0;36mwrapped\u001b[0;34m()\u001b[0m\n",
      "File \u001b[0;32m<ta-01JK3V5RJZ833ZK8XYQ39AVPBY>:/pkg/modal/object.py:245\u001b[0m, in \u001b[0;36mresolve\u001b[0;34m()\u001b[0m\n",
      "File \u001b[0;32m<ta-01JK3V5RJZ833ZK8XYQ39AVPBY>:/pkg/modal/_resolver.py:155\u001b[0m, in \u001b[0;36mload\u001b[0;34m()\u001b[0m\n",
      "File \u001b[0;32m<ta-01JK3V5RJZ833ZK8XYQ39AVPBY>:/pkg/modal/_resolver.py:128\u001b[0m, in \u001b[0;36mloader\u001b[0;34m()\u001b[0m\n",
      "File \u001b[0;32m<ta-01JK3V5RJZ833ZK8XYQ39AVPBY>:/pkg/modal/cls.py:338\u001b[0m, in \u001b[0;36mmethod_loader\u001b[0;34m()\u001b[0m\n",
      "File \u001b[0;32m<ta-01JK3V5RJZ833ZK8XYQ39AVPBY>:/pkg/modal/_resolver.py:155\u001b[0m, in \u001b[0;36mload\u001b[0;34m()\u001b[0m\n",
      "File \u001b[0;32m<ta-01JK3V5RJZ833ZK8XYQ39AVPBY>:/pkg/modal/_resolver.py:128\u001b[0m, in \u001b[0;36mloader\u001b[0;34m()\u001b[0m\n",
      "File \u001b[0;32m<ta-01JK3V5RJZ833ZK8XYQ39AVPBY>:/pkg/modal/cls.py:556\u001b[0m, in \u001b[0;36m_load_remote\u001b[0;34m()\u001b[0m\n",
      "\u001b[0;31mNotFoundError\u001b[0m: Class not found in app"
     ]
    }
   ],
   "source": [
    "with app.run():\n",
    "    vdb.insert.remote(metadatas=[pokemon_data[0], pokemon_data[1]])\n",
    "    print(vdb.query.remote(\"pikachu\"))\n"
   ]
  },
  {
   "cell_type": "code",
   "execution_count": null,
   "metadata": {},
   "outputs": [],
   "source": []
  }
 ],
 "metadata": {
  "kernelspec": {
   "display_name": "modal-vectordb-env",
   "language": "python",
   "name": "python3"
  },
  "language_info": {
   "codemirror_mode": {
    "name": "ipython",
    "version": 3
   },
   "file_extension": ".py",
   "mimetype": "text/x-python",
   "name": "python",
   "nbconvert_exporter": "python",
   "pygments_lexer": "ipython3",
   "version": "3.11.8"
  }
 },
 "nbformat": 4,
 "nbformat_minor": 2
}
