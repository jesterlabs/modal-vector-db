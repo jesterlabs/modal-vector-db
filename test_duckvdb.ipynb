{
 "cells": [
  {
   "cell_type": "code",
   "execution_count": null,
   "metadata": {},
   "outputs": [],
   "source": [
    "from sentence_transformers import SentenceTransformer\n",
    "import requests\n",
    "import duckdb\n",
    "import numpy as np\n",
    "from duckvdb import DuckVDB\n",
    "import json\n"
   ]
  },
  {
   "cell_type": "code",
   "execution_count": 2,
   "metadata": {},
   "outputs": [],
   "source": [
    "#pokedata: list[dict] = requests.get(\"https://raw.githubusercontent.com/Purukitto/pokemon-data.json/refs/heads/master/pokedex.json\").json()"
   ]
  },
  {
   "cell_type": "code",
   "execution_count": 3,
   "metadata": {},
   "outputs": [],
   "source": [
    "#save json\n",
    "# with open(\"pokemon.json\", \"w\") as f:\n",
    "#     json.dump(pokedata, f)\n"
   ]
  },
  {
   "cell_type": "code",
   "execution_count": 4,
   "metadata": {},
   "outputs": [],
   "source": [
    "pokedata = json.load(open(\"pokemon.json\"))"
   ]
  },
  {
   "cell_type": "code",
   "execution_count": 5,
   "metadata": {},
   "outputs": [],
   "source": [
    "first_10_pokemon: list[dict] = pokedata[:10]\n",
    "\n"
   ]
  },
  {
   "cell_type": "markdown",
   "metadata": {},
   "source": []
  },
  {
   "cell_type": "code",
   "execution_count": null,
   "metadata": {},
   "outputs": [],
   "source": [
    "first_10_pokemon"
   ]
  },
  {
   "cell_type": "code",
   "execution_count": 7,
   "metadata": {},
   "outputs": [],
   "source": [
    "class MiniLMEMbedder:\n",
    "    def __init__(self):\n",
    "        self.model = SentenceTransformer(\"all-MiniLM-L6-v2\")\n",
    "        self.vector_dim = self.model.get_sentence_embedding_dimension()\n",
    "\n",
    "    def __call__(self, x: str) -> np.array:\n",
    "        return self.model.encode(x)\n",
    "\n",
    "\n",
    "embedder = MiniLMEMbedder()\n"
   ]
  },
  {
   "cell_type": "code",
   "execution_count": null,
   "metadata": {},
   "outputs": [],
   "source": [
    "embedder.vector_dim"
   ]
  },
  {
   "cell_type": "code",
   "execution_count": 9,
   "metadata": {},
   "outputs": [],
   "source": [
    "dvdb = DuckVDB(db_path=\"pokemon.duckdb\", embedding_function=embedder)"
   ]
  },
  {
   "cell_type": "code",
   "execution_count": 10,
   "metadata": {},
   "outputs": [],
   "source": [
    "metadatas: list[dict] = [json.dumps(pokemon) for pokemon in first_10_pokemon] #[{\"name\": pokemon[\"name\"], \"description\": pokemon[\"description\"]} for pokemon in first_10_pokemon]\n",
    "embeddings: list[np.array] = [embedder(pokemon[\"description\"]) for pokemon in first_10_pokemon]\n",
    "\n",
    "dvdb.write(metadatas, embeddings)"
   ]
  },
  {
   "cell_type": "code",
   "execution_count": null,
   "metadata": {},
   "outputs": [],
   "source": [
    "dvdb.query(\"water\", k=10, filters={\"base.Attack\": (\"<=\", 49)})"
   ]
  },
  {
   "cell_type": "code",
   "execution_count": 12,
   "metadata": {},
   "outputs": [],
   "source": [
    "# embedding_fn = EmbeddingFunction.from_method(<app-name>, <fn-name>) / EmbeddingFunction.from_class(<function-name>) / EmbeddingFunction()\n",
    "# if no embedding_fn provided, need to validate on record entry\n",
    "# mdb = DB(\"<db-name>\", embedding_fn=\"<>\") # if embedding_fn is class(validated), or name, check modal if function exists (check esisting mapping)\n",
    "\n"
   ]
  },
  {
   "cell_type": "code",
   "execution_count": 13,
   "metadata": {},
   "outputs": [],
   "source": [
    "embedding_fn = MiniLMEMbedder()\n",
    "from typing import Any, Optional, List\n",
    "import modal\n",
    "app = modal.App(\"modal-vector-db\")\n",
    "image = modal.Image.debian_slim()\\\n",
    "    .pip_install(\n",
    "        \"duckdb\", \n",
    "        \"pandas\", \n",
    "        \"pyarrow\", \n",
    "        \"numpy\"\n",
    "    )\n",
    "vol = modal.Volume.from_name(\"modal-vector-db-volume\", create_if_missing=True)\n",
    "MOUNT_PATH = \"/db\"\n",
    "@app.cls(volumes={MOUNT_PATH: vol}, image=image)\n",
    "class WrapperClass:\n",
    "    name: str = modal.parameter()\n",
    "\n",
    "    @modal.enter()\n",
    "    def enter(self):\n",
    "        if embedding_fn is callable:\n",
    "            embedding_model = embedding_fn\n",
    "        else:\n",
    "            embedding_model = modal.Function.lookup(embedding_fn)\n",
    "        self.db: DuckVDB = DuckVDB(db_path=f\"{MOUNT_PATH}/{self.name}.duckdb\", embedding_function=embedding_model)\n",
    "\n",
    "    @modal.method()\n",
    "    def insert(self, metadatas: list[dict[str, Any]], embeddings: List[np.array]):\n",
    "        self.db.write(metadatas, embeddings)\n",
    "\n",
    "    @modal.method()\n",
    "    def query(self, query: str, k: int = 10, filters: Optional[dict[str, Any]] = None):\n",
    "        return self.db.query(query, k, filters)"
   ]
  },
  {
   "cell_type": "code",
   "execution_count": 14,
   "metadata": {},
   "outputs": [
    {
     "name": "stderr",
     "output_type": "stream",
     "text": [
      "[Thread-6 (thread_inner)] 2025-02-01T15:02:55-0800 Loop attempt for _run_app.<locals>.heartbeat failed\n",
      "Traceback (most recent call last):\n",
      "  File \"/opt/anaconda3/envs/modal-vectordb-env/lib/python3.11/site-packages/grpclib/client.py\", line 205, in send_request\n",
      "    release_stream = await stream.send_request(\n",
      "                     ^^^^^^^^^^^^^^^^^^^^^^^^^^\n",
      "  File \"/opt/anaconda3/envs/modal-vectordb-env/lib/python3.11/site-packages/grpclib/protocol.py\", line 367, in send_request\n",
      "    await self.connection.write_ready.wait()\n",
      "  File \"/opt/anaconda3/envs/modal-vectordb-env/lib/python3.11/asyncio/locks.py\", line 213, in wait\n",
      "    await fut\n",
      "asyncio.exceptions.CancelledError\n",
      "\n",
      "During handling of the above exception, another exception occurred:\n",
      "\n",
      "Traceback (most recent call last):\n",
      "  File \"/opt/anaconda3/envs/modal-vectordb-env/lib/python3.11/site-packages/modal/_utils/grpc_utils.py\", line 178, in retry_transient_errors\n",
      "    return await fn(*args, metadata=metadata, timeout=timeout)\n",
      "           ^^^^^^^^^^^^^^^^^^^^^^^^^^^^^^^^^^^^^^^^^^^^^^^^^^^\n",
      "  File \"/opt/anaconda3/envs/modal-vectordb-env/lib/python3.11/site-packages/modal/client.py\", line 365, in __call__\n",
      "    return await self.client._call_unary(self._wrapped_method_name, req, timeout=timeout, metadata=metadata)\n",
      "           ^^^^^^^^^^^^^^^^^^^^^^^^^^^^^^^^^^^^^^^^^^^^^^^^^^^^^^^^^^^^^^^^^^^^^^^^^^^^^^^^^^^^^^^^^^^^^^^^^\n",
      "  File \"/opt/anaconda3/envs/modal-vectordb-env/lib/python3.11/site-packages/modal/client.py\", line 307, in _call_unary\n",
      "    return await self._call_safely(coro, grpclib_method.name)\n",
      "           ^^^^^^^^^^^^^^^^^^^^^^^^^^^^^^^^^^^^^^^^^^^^^^^^^^\n",
      "  File \"/opt/anaconda3/envs/modal-vectordb-env/lib/python3.11/site-packages/modal/client.py\", line 266, in _call_safely\n",
      "    return await request_task\n",
      "           ^^^^^^^^^^^^^^^^^^\n",
      "  File \"/opt/anaconda3/envs/modal-vectordb-env/lib/python3.11/site-packages/grpclib/client.py\", line 903, in __call__\n",
      "    await stream.send_message(message, end=True)\n",
      "  File \"/opt/anaconda3/envs/modal-vectordb-env/lib/python3.11/site-packages/grpclib/client.py\", line 241, in send_message\n",
      "    await self.send_request()\n",
      "  File \"/opt/anaconda3/envs/modal-vectordb-env/lib/python3.11/site-packages/grpclib/client.py\", line 172, in send_request\n",
      "    with self._wrapper:\n",
      "  File \"/opt/anaconda3/envs/modal-vectordb-env/lib/python3.11/site-packages/grpclib/utils.py\", line 70, in __exit__\n",
      "    raise self._error\n",
      "TimeoutError: Deadline exceeded\n",
      "\n",
      "During handling of the above exception, another exception occurred:\n",
      "\n",
      "Traceback (most recent call last):\n",
      "  File \"/opt/anaconda3/envs/modal-vectordb-env/lib/python3.11/site-packages/modal/_utils/async_utils.py\", line 195, in loop_coro\n",
      "    await asyncio.wait_for(async_f(), timeout=timeout)\n",
      "  File \"/opt/anaconda3/envs/modal-vectordb-env/lib/python3.11/asyncio/tasks.py\", line 489, in wait_for\n",
      "    return fut.result()\n",
      "           ^^^^^^^^^^^^\n",
      "  File \"/opt/anaconda3/envs/modal-vectordb-env/lib/python3.11/site-packages/modal/runner.py\", line 52, in _heartbeat\n",
      "    await retry_transient_errors(client.stub.AppHeartbeat, request, attempt_timeout=HEARTBEAT_TIMEOUT)\n",
      "  File \"/opt/anaconda3/envs/modal-vectordb-env/lib/python3.11/site-packages/modal/_utils/grpc_utils.py\", line 195, in retry_transient_errors\n",
      "    raise ConnectionError(str(exc))\n",
      "modal.exception.ConnectionError: Deadline exceeded\n"
     ]
    }
   ],
   "source": [
    "remote_db = WrapperClass(name=\"pokemon_db\")\n",
    "with app.run():\n",
    "    remote_db.insert.remote(metadatas, embeddings)\n",
    "    remote_db.query.remote(\"water\", k=10, filters={\"base.Attack\": (\"<=\", 49)})\n"
   ]
  },
  {
   "cell_type": "code",
   "execution_count": null,
   "metadata": {},
   "outputs": [],
   "source": []
  },
  {
   "cell_type": "code",
   "execution_count": null,
   "metadata": {},
   "outputs": [],
   "source": []
  }
 ],
 "metadata": {
  "kernelspec": {
   "display_name": "modal-vectordb-env",
   "language": "python",
   "name": "python3"
  },
  "language_info": {
   "codemirror_mode": {
    "name": "ipython",
    "version": 3
   },
   "file_extension": ".py",
   "mimetype": "text/x-python",
   "name": "python",
   "nbconvert_exporter": "python",
   "pygments_lexer": "ipython3",
   "version": "3.11.8"
  }
 },
 "nbformat": 4,
 "nbformat_minor": 2
}
