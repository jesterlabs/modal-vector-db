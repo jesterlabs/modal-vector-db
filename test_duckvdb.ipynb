{
 "cells": [
  {
   "cell_type": "code",
   "execution_count": 1,
   "metadata": {},
   "outputs": [
    {
     "name": "stderr",
     "output_type": "stream",
     "text": [
      "/opt/anaconda3/envs/modal-vectordb-env/lib/python3.11/site-packages/tqdm/auto.py:21: TqdmWarning: IProgress not found. Please update jupyter and ipywidgets. See https://ipywidgets.readthedocs.io/en/stable/user_install.html\n",
      "  from .autonotebook import tqdm as notebook_tqdm\n"
     ]
    }
   ],
   "source": [
    "from sentence_transformers import SentenceTransformer\n",
    "import requests\n",
    "import duckdb\n",
    "import numpy as np\n",
    "from duckvdb import DuckVDB\n",
    "import json\n"
   ]
  },
  {
   "cell_type": "code",
   "execution_count": 2,
   "metadata": {},
   "outputs": [],
   "source": [
    "pokedata: list[dict] = requests.get(\"https://raw.githubusercontent.com/Purukitto/pokemon-data.json/refs/heads/master/pokedex.json\").json()"
   ]
  },
  {
   "cell_type": "code",
   "execution_count": 3,
   "metadata": {},
   "outputs": [],
   "source": [
    "first_10_pokemon: list[dict] = pokedata[:10]\n",
    "\n"
   ]
  },
  {
   "cell_type": "code",
   "execution_count": 4,
   "metadata": {},
   "outputs": [
    {
     "data": {
      "text/plain": [
       "[{'id': 1,\n",
       "  'name': {'english': 'Bulbasaur',\n",
       "   'japanese': 'フシギダネ',\n",
       "   'chinese': '妙蛙种子',\n",
       "   'french': 'Bulbizarre'},\n",
       "  'type': ['Grass', 'Poison'],\n",
       "  'base': {'HP': 45,\n",
       "   'Attack': 49,\n",
       "   'Defense': 49,\n",
       "   'Sp. Attack': 65,\n",
       "   'Sp. Defense': 65,\n",
       "   'Speed': 45},\n",
       "  'species': 'Seed Pokémon',\n",
       "  'description': 'Bulbasaur can be seen napping in bright sunlight. There is a seed on its back. By soaking up the sun’s rays, the seed grows progressively larger.',\n",
       "  'evolution': {'next': [['2', 'Level 16']]},\n",
       "  'profile': {'height': '0.7 m',\n",
       "   'weight': '6.9 kg',\n",
       "   'egg': ['Monster', 'Grass'],\n",
       "   'ability': [['Overgrow', 'false'], ['Chlorophyll', 'true']],\n",
       "   'gender': '87.5:12.5'},\n",
       "  'image': {'sprite': 'https://raw.githubusercontent.com/Purukitto/pokemon-data.json/master/images/pokedex/sprites/001.png',\n",
       "   'thumbnail': 'https://raw.githubusercontent.com/Purukitto/pokemon-data.json/master/images/pokedex/thumbnails/001.png',\n",
       "   'hires': 'https://raw.githubusercontent.com/Purukitto/pokemon-data.json/master/images/pokedex/hires/001.png'}},\n",
       " {'id': 2,\n",
       "  'name': {'english': 'Ivysaur',\n",
       "   'japanese': 'フシギソウ',\n",
       "   'chinese': '妙蛙草',\n",
       "   'french': 'Herbizarre'},\n",
       "  'type': ['Grass', 'Poison'],\n",
       "  'base': {'HP': 60,\n",
       "   'Attack': 62,\n",
       "   'Defense': 63,\n",
       "   'Sp. Attack': 80,\n",
       "   'Sp. Defense': 80,\n",
       "   'Speed': 60},\n",
       "  'species': 'Seed Pokémon',\n",
       "  'description': 'There is a bud on this Pokémon’s back. To support its weight, Ivysaur’s legs and trunk grow thick and strong. If it starts spending more time lying in the sunlight, it’s a sign that the bud will bloom into a large flower soon.',\n",
       "  'evolution': {'prev': ['1', 'Level 16'], 'next': [['3', 'Level 32']]},\n",
       "  'profile': {'height': '1 m',\n",
       "   'weight': '13 kg',\n",
       "   'egg': ['Monster', 'Grass'],\n",
       "   'ability': [['Overgrow', 'false'], ['Chlorophyll', 'true']],\n",
       "   'gender': '87.5:12.5'},\n",
       "  'image': {'sprite': 'https://raw.githubusercontent.com/Purukitto/pokemon-data.json/master/images/pokedex/sprites/002.png',\n",
       "   'thumbnail': 'https://raw.githubusercontent.com/Purukitto/pokemon-data.json/master/images/pokedex/thumbnails/002.png',\n",
       "   'hires': 'https://raw.githubusercontent.com/Purukitto/pokemon-data.json/master/images/pokedex/hires/002.png'}},\n",
       " {'id': 3,\n",
       "  'name': {'english': 'Venusaur',\n",
       "   'japanese': 'フシギバナ',\n",
       "   'chinese': '妙蛙花',\n",
       "   'french': 'Florizarre'},\n",
       "  'type': ['Grass', 'Poison'],\n",
       "  'base': {'HP': 80,\n",
       "   'Attack': 82,\n",
       "   'Defense': 83,\n",
       "   'Sp. Attack': 100,\n",
       "   'Sp. Defense': 100,\n",
       "   'Speed': 80},\n",
       "  'species': 'Seed Pokémon',\n",
       "  'description': 'There is a large flower on Venusaur’s back. The flower is said to take on vivid colors if it gets plenty of nutrition and sunlight. The flower’s aroma soothes the emotions of people.',\n",
       "  'evolution': {'prev': ['2', 'Level 32']},\n",
       "  'profile': {'height': '2 m',\n",
       "   'weight': '100 kg',\n",
       "   'egg': ['Monster', 'Grass'],\n",
       "   'ability': [['Overgrow', 'false'], ['Chlorophyll', 'true']],\n",
       "   'gender': '87.5:12.5'},\n",
       "  'image': {'sprite': 'https://raw.githubusercontent.com/Purukitto/pokemon-data.json/master/images/pokedex/sprites/003.png',\n",
       "   'thumbnail': 'https://raw.githubusercontent.com/Purukitto/pokemon-data.json/master/images/pokedex/thumbnails/003.png',\n",
       "   'hires': 'https://raw.githubusercontent.com/Purukitto/pokemon-data.json/master/images/pokedex/hires/003.png'}},\n",
       " {'id': 4,\n",
       "  'name': {'english': 'Charmander',\n",
       "   'japanese': 'ヒトカゲ',\n",
       "   'chinese': '小火龙',\n",
       "   'french': 'Salamèche'},\n",
       "  'type': ['Fire'],\n",
       "  'base': {'HP': 39,\n",
       "   'Attack': 52,\n",
       "   'Defense': 43,\n",
       "   'Sp. Attack': 60,\n",
       "   'Sp. Defense': 50,\n",
       "   'Speed': 65},\n",
       "  'species': 'Lizard Pokémon',\n",
       "  'description': 'The flame that burns at the tip of its tail is an indication of its emotions. The flame wavers when Charmander is enjoying itself. If the Pokémon becomes enraged, the flame burns fiercely.',\n",
       "  'evolution': {'next': [['5', 'Level 16']]},\n",
       "  'profile': {'height': '0.6 m',\n",
       "   'weight': '8.5 kg',\n",
       "   'egg': ['Monster', 'Dragon'],\n",
       "   'ability': [['Blaze', 'false'], ['Solar Power', 'true']],\n",
       "   'gender': '87.5:12.5'},\n",
       "  'image': {'sprite': 'https://raw.githubusercontent.com/Purukitto/pokemon-data.json/master/images/pokedex/sprites/004.png',\n",
       "   'thumbnail': 'https://raw.githubusercontent.com/Purukitto/pokemon-data.json/master/images/pokedex/thumbnails/004.png',\n",
       "   'hires': 'https://raw.githubusercontent.com/Purukitto/pokemon-data.json/master/images/pokedex/hires/004.png'}},\n",
       " {'id': 5,\n",
       "  'name': {'english': 'Charmeleon',\n",
       "   'japanese': 'リザード',\n",
       "   'chinese': '火恐龙',\n",
       "   'french': 'Reptincel'},\n",
       "  'type': ['Fire'],\n",
       "  'base': {'HP': 58,\n",
       "   'Attack': 64,\n",
       "   'Defense': 58,\n",
       "   'Sp. Attack': 80,\n",
       "   'Sp. Defense': 65,\n",
       "   'Speed': 80},\n",
       "  'species': 'Flame Pokémon',\n",
       "  'description': 'Charmeleon mercilessly destroys its foes using its sharp claws. If it encounters a strong foe, it turns aggressive. In this excited state, the flame at the tip of its tail flares with a bluish white color.',\n",
       "  'evolution': {'prev': ['4', 'Level 16'], 'next': [['6', 'Level 36']]},\n",
       "  'profile': {'height': '1.1 m',\n",
       "   'weight': '19 kg',\n",
       "   'egg': ['Monster', 'Dragon'],\n",
       "   'ability': [['Blaze', 'false'], ['Solar Power', 'true']],\n",
       "   'gender': '87.5:12.5'},\n",
       "  'image': {'sprite': 'https://raw.githubusercontent.com/Purukitto/pokemon-data.json/master/images/pokedex/sprites/005.png',\n",
       "   'thumbnail': 'https://raw.githubusercontent.com/Purukitto/pokemon-data.json/master/images/pokedex/thumbnails/005.png',\n",
       "   'hires': 'https://raw.githubusercontent.com/Purukitto/pokemon-data.json/master/images/pokedex/hires/005.png'}},\n",
       " {'id': 6,\n",
       "  'name': {'english': 'Charizard',\n",
       "   'japanese': 'リザードン',\n",
       "   'chinese': '喷火龙',\n",
       "   'french': 'Dracaufeu'},\n",
       "  'type': ['Fire', 'Flying'],\n",
       "  'base': {'HP': 78,\n",
       "   'Attack': 84,\n",
       "   'Defense': 78,\n",
       "   'Sp. Attack': 109,\n",
       "   'Sp. Defense': 85,\n",
       "   'Speed': 100},\n",
       "  'species': 'Flame Pokémon',\n",
       "  'description': 'Charizard flies around the sky in search of powerful opponents. It breathes fire of such great heat that it melts anything. However, it never turns its fiery breath on any opponent weaker than itself.',\n",
       "  'evolution': {'prev': ['5', 'Level 36']},\n",
       "  'profile': {'height': '1.7 m',\n",
       "   'weight': '90.5 kg',\n",
       "   'egg': ['Monster', 'Dragon'],\n",
       "   'ability': [['Blaze', 'false'], ['Solar Power', 'true']],\n",
       "   'gender': '87.5:12.5'},\n",
       "  'image': {'sprite': 'https://raw.githubusercontent.com/Purukitto/pokemon-data.json/master/images/pokedex/sprites/006.png',\n",
       "   'thumbnail': 'https://raw.githubusercontent.com/Purukitto/pokemon-data.json/master/images/pokedex/thumbnails/006.png',\n",
       "   'hires': 'https://raw.githubusercontent.com/Purukitto/pokemon-data.json/master/images/pokedex/hires/006.png'}},\n",
       " {'id': 7,\n",
       "  'name': {'english': 'Squirtle',\n",
       "   'japanese': 'ゼニガメ',\n",
       "   'chinese': '杰尼龟',\n",
       "   'french': 'Carapuce'},\n",
       "  'type': ['Water'],\n",
       "  'base': {'HP': 44,\n",
       "   'Attack': 48,\n",
       "   'Defense': 65,\n",
       "   'Sp. Attack': 50,\n",
       "   'Sp. Defense': 64,\n",
       "   'Speed': 43},\n",
       "  'species': 'Tiny Turtle Pokémon',\n",
       "  'description': 'Squirtle’s shell is not merely used for protection. The shell’s rounded shape and the grooves on its surface help minimize resistance in water, enabling this Pokémon to swim at high speeds.',\n",
       "  'evolution': {'next': [['8', 'Level 16']]},\n",
       "  'profile': {'height': '0.5 m',\n",
       "   'weight': '9 kg',\n",
       "   'egg': ['Monster', 'Water 1'],\n",
       "   'ability': [['Torrent', 'false'], ['Rain Dish', 'true']],\n",
       "   'gender': '87.5:12.5'},\n",
       "  'image': {'sprite': 'https://raw.githubusercontent.com/Purukitto/pokemon-data.json/master/images/pokedex/sprites/007.png',\n",
       "   'thumbnail': 'https://raw.githubusercontent.com/Purukitto/pokemon-data.json/master/images/pokedex/thumbnails/007.png',\n",
       "   'hires': 'https://raw.githubusercontent.com/Purukitto/pokemon-data.json/master/images/pokedex/hires/007.png'}},\n",
       " {'id': 8,\n",
       "  'name': {'english': 'Wartortle',\n",
       "   'japanese': 'カメール',\n",
       "   'chinese': '卡咪龟',\n",
       "   'french': 'Carabaffe'},\n",
       "  'type': ['Water'],\n",
       "  'base': {'HP': 59,\n",
       "   'Attack': 63,\n",
       "   'Defense': 80,\n",
       "   'Sp. Attack': 65,\n",
       "   'Sp. Defense': 80,\n",
       "   'Speed': 58},\n",
       "  'species': 'Turtle Pokémon',\n",
       "  'description': 'Its tail is large and covered with a rich, thick fur. The tail becomes increasingly deeper in color as Wartortle ages. The scratches on its shell are evidence of this Pokémon’s toughness as a battler.',\n",
       "  'evolution': {'prev': ['7', 'Level 16'], 'next': [['9', 'Level 36']]},\n",
       "  'profile': {'height': '1 m',\n",
       "   'weight': '22.5 kg',\n",
       "   'egg': ['Monster', 'Water 1'],\n",
       "   'ability': [['Torrent', 'false'], ['Rain Dish', 'true']],\n",
       "   'gender': '87.5:12.5'},\n",
       "  'image': {'sprite': 'https://raw.githubusercontent.com/Purukitto/pokemon-data.json/master/images/pokedex/sprites/008.png',\n",
       "   'thumbnail': 'https://raw.githubusercontent.com/Purukitto/pokemon-data.json/master/images/pokedex/thumbnails/008.png',\n",
       "   'hires': 'https://raw.githubusercontent.com/Purukitto/pokemon-data.json/master/images/pokedex/hires/008.png'}},\n",
       " {'id': 9,\n",
       "  'name': {'english': 'Blastoise',\n",
       "   'japanese': 'カメックス',\n",
       "   'chinese': '水箭龟',\n",
       "   'french': 'Tortank'},\n",
       "  'type': ['Water'],\n",
       "  'base': {'HP': 79,\n",
       "   'Attack': 83,\n",
       "   'Defense': 100,\n",
       "   'Sp. Attack': 85,\n",
       "   'Sp. Defense': 105,\n",
       "   'Speed': 78},\n",
       "  'species': 'Shellfish Pokémon',\n",
       "  'description': 'Blastoise has water spouts that protrude from its shell. The water spouts are very accurate. They can shoot bullets of water with enough accuracy to strike empty cans from a distance of over 160 feet.',\n",
       "  'evolution': {'prev': ['8', 'Level 36']},\n",
       "  'profile': {'height': '1.6 m',\n",
       "   'weight': '85.5 kg',\n",
       "   'egg': ['Monster', 'Water 1'],\n",
       "   'ability': [['Torrent', 'false'], ['Rain Dish', 'true']],\n",
       "   'gender': '87.5:12.5'},\n",
       "  'image': {'sprite': 'https://raw.githubusercontent.com/Purukitto/pokemon-data.json/master/images/pokedex/sprites/009.png',\n",
       "   'thumbnail': 'https://raw.githubusercontent.com/Purukitto/pokemon-data.json/master/images/pokedex/thumbnails/009.png',\n",
       "   'hires': 'https://raw.githubusercontent.com/Purukitto/pokemon-data.json/master/images/pokedex/hires/009.png'}},\n",
       " {'id': 10,\n",
       "  'name': {'english': 'Caterpie',\n",
       "   'japanese': 'キャタピー',\n",
       "   'chinese': '绿毛虫',\n",
       "   'french': 'Chenipan'},\n",
       "  'type': ['Bug'],\n",
       "  'base': {'HP': 45,\n",
       "   'Attack': 30,\n",
       "   'Defense': 35,\n",
       "   'Sp. Attack': 20,\n",
       "   'Sp. Defense': 20,\n",
       "   'Speed': 45},\n",
       "  'species': 'Worm Pokémon',\n",
       "  'description': 'Its body is soft and weak. In nature, its perpetual fate is to be seen by others as food.',\n",
       "  'evolution': {'next': [['11', 'Level 7']]},\n",
       "  'profile': {'height': '0.3 m',\n",
       "   'weight': '2.9 kg',\n",
       "   'egg': ['Bug'],\n",
       "   'ability': [['Shield Dust', 'false'], ['Run Away', 'true']],\n",
       "   'gender': '50:50'},\n",
       "  'image': {'sprite': 'https://raw.githubusercontent.com/Purukitto/pokemon-data.json/master/images/pokedex/sprites/010.png',\n",
       "   'thumbnail': 'https://raw.githubusercontent.com/Purukitto/pokemon-data.json/master/images/pokedex/thumbnails/010.png',\n",
       "   'hires': 'https://raw.githubusercontent.com/Purukitto/pokemon-data.json/master/images/pokedex/hires/010.png'}}]"
      ]
     },
     "execution_count": 4,
     "metadata": {},
     "output_type": "execute_result"
    }
   ],
   "source": [
    "first_10_pokemon"
   ]
  },
  {
   "cell_type": "code",
   "execution_count": 5,
   "metadata": {},
   "outputs": [],
   "source": [
    "class MiniLMEMbedder:\n",
    "    def __init__(self):\n",
    "        self.model = SentenceTransformer(\"all-MiniLM-L6-v2\")\n",
    "        self.vector_dim = self.model.get_sentence_embedding_dimension()\n",
    "\n",
    "    def __call__(self, x: str) -> np.array:\n",
    "        return self.model.encode(x)\n",
    "\n",
    "\n",
    "embedder = MiniLMEMbedder()\n"
   ]
  },
  {
   "cell_type": "code",
   "execution_count": 6,
   "metadata": {},
   "outputs": [
    {
     "data": {
      "text/plain": [
       "384"
      ]
     },
     "execution_count": 6,
     "metadata": {},
     "output_type": "execute_result"
    }
   ],
   "source": [
    "embedder.vector_dim"
   ]
  },
  {
   "cell_type": "code",
   "execution_count": 7,
   "metadata": {},
   "outputs": [],
   "source": [
    "dvdb = DuckVDB(db_path=\"pokemon.duckdb\", embedding_function=embedder)"
   ]
  },
  {
   "cell_type": "code",
   "execution_count": 8,
   "metadata": {},
   "outputs": [],
   "source": [
    "metadatas: list[dict] = [json.dumps(pokemon) for pokemon in first_10_pokemon] #[{\"name\": pokemon[\"name\"], \"description\": pokemon[\"description\"]} for pokemon in first_10_pokemon]\n",
    "embeddings: list[np.array] = [embedder(pokemon[\"description\"]) for pokemon in first_10_pokemon]\n",
    "\n",
    "dvdb.write(metadatas, embeddings)"
   ]
  },
  {
   "cell_type": "code",
   "execution_count": 10,
   "metadata": {},
   "outputs": [
    {
     "data": {
      "text/plain": [
       "[Result(id=UUID('053ae69f-2077-53b6-bd5b-9bf5fc70ade5'), metadata='{\"id\": 7, \"name\": {\"english\": \"Squirtle\", \"japanese\": \"\\\\u30bc\\\\u30cb\\\\u30ac\\\\u30e1\", \"chinese\": \"\\\\u6770\\\\u5c3c\\\\u9f9f\", \"french\": \"Carapuce\"}, \"type\": [\"Water\"], \"base\": {\"HP\": 44, \"Attack\": 48, \"Defense\": 65, \"Sp. Attack\": 50, \"Sp. Defense\": 64, \"Speed\": 43}, \"species\": \"Tiny Turtle Pok\\\\u00e9mon\", \"description\": \"Squirtle\\\\u2019s shell is not merely used for protection. The shell\\\\u2019s rounded shape and the grooves on its surface help minimize resistance in water, enabling this Pok\\\\u00e9mon to swim at high speeds.\", \"evolution\": {\"next\": [[\"8\", \"Level 16\"]]}, \"profile\": {\"height\": \"0.5 m\", \"weight\": \"9 kg\", \"egg\": [\"Monster\", \"Water 1\"], \"ability\": [[\"Torrent\", \"false\"], [\"Rain Dish\", \"true\"]], \"gender\": \"87.5:12.5\"}, \"image\": {\"sprite\": \"https://raw.githubusercontent.com/Purukitto/pokemon-data.json/master/images/pokedex/sprites/007.png\", \"thumbnail\": \"https://raw.githubusercontent.com/Purukitto/pokemon-data.json/master/images/pokedex/thumbnails/007.png\", \"hires\": \"https://raw.githubusercontent.com/Purukitto/pokemon-data.json/master/images/pokedex/hires/007.png\"}}', distance=0.8012831211090088),\n",
       " Result(id=UUID('d109e780-5b57-5446-9ef3-6846b3452861'), metadata='{\"id\": 10, \"name\": {\"english\": \"Caterpie\", \"japanese\": \"\\\\u30ad\\\\u30e3\\\\u30bf\\\\u30d4\\\\u30fc\", \"chinese\": \"\\\\u7eff\\\\u6bdb\\\\u866b\", \"french\": \"Chenipan\"}, \"type\": [\"Bug\"], \"base\": {\"HP\": 45, \"Attack\": 30, \"Defense\": 35, \"Sp. Attack\": 20, \"Sp. Defense\": 20, \"Speed\": 45}, \"species\": \"Worm Pok\\\\u00e9mon\", \"description\": \"Its body is soft and weak. In nature, its perpetual fate is to be seen by others as food.\", \"evolution\": {\"next\": [[\"11\", \"Level 7\"]]}, \"profile\": {\"height\": \"0.3 m\", \"weight\": \"2.9 kg\", \"egg\": [\"Bug\"], \"ability\": [[\"Shield Dust\", \"false\"], [\"Run Away\", \"true\"]], \"gender\": \"50:50\"}, \"image\": {\"sprite\": \"https://raw.githubusercontent.com/Purukitto/pokemon-data.json/master/images/pokedex/sprites/010.png\", \"thumbnail\": \"https://raw.githubusercontent.com/Purukitto/pokemon-data.json/master/images/pokedex/thumbnails/010.png\", \"hires\": \"https://raw.githubusercontent.com/Purukitto/pokemon-data.json/master/images/pokedex/hires/010.png\"}}', distance=0.8024080991744995),\n",
       " Result(id=UUID('7414fd0f-3f97-5af5-82ac-8872f7227dda'), metadata='{\"id\": 1, \"name\": {\"english\": \"Bulbasaur\", \"japanese\": \"\\\\u30d5\\\\u30b7\\\\u30ae\\\\u30c0\\\\u30cd\", \"chinese\": \"\\\\u5999\\\\u86d9\\\\u79cd\\\\u5b50\", \"french\": \"Bulbizarre\"}, \"type\": [\"Grass\", \"Poison\"], \"base\": {\"HP\": 45, \"Attack\": 49, \"Defense\": 49, \"Sp. Attack\": 65, \"Sp. Defense\": 65, \"Speed\": 45}, \"species\": \"Seed Pok\\\\u00e9mon\", \"description\": \"Bulbasaur can be seen napping in bright sunlight. There is a seed on its back. By soaking up the sun\\\\u2019s rays, the seed grows progressively larger.\", \"evolution\": {\"next\": [[\"2\", \"Level 16\"]]}, \"profile\": {\"height\": \"0.7 m\", \"weight\": \"6.9 kg\", \"egg\": [\"Monster\", \"Grass\"], \"ability\": [[\"Overgrow\", \"false\"], [\"Chlorophyll\", \"true\"]], \"gender\": \"87.5:12.5\"}, \"image\": {\"sprite\": \"https://raw.githubusercontent.com/Purukitto/pokemon-data.json/master/images/pokedex/sprites/001.png\", \"thumbnail\": \"https://raw.githubusercontent.com/Purukitto/pokemon-data.json/master/images/pokedex/thumbnails/001.png\", \"hires\": \"https://raw.githubusercontent.com/Purukitto/pokemon-data.json/master/images/pokedex/hires/001.png\"}}', distance=0.8856164216995239)]"
      ]
     },
     "execution_count": 10,
     "metadata": {},
     "output_type": "execute_result"
    }
   ],
   "source": [
    "dvdb.query(\"water\", k=10, filters={\"base.Attack\": (\"<=\", 49)})"
   ]
  },
  {
   "cell_type": "code",
   "execution_count": null,
   "metadata": {},
   "outputs": [],
   "source": []
  },
  {
   "cell_type": "code",
   "execution_count": null,
   "metadata": {},
   "outputs": [],
   "source": []
  },
  {
   "cell_type": "code",
   "execution_count": null,
   "metadata": {},
   "outputs": [],
   "source": []
  },
  {
   "cell_type": "code",
   "execution_count": null,
   "metadata": {},
   "outputs": [],
   "source": []
  }
 ],
 "metadata": {
  "kernelspec": {
   "display_name": "modal-vectordb-env",
   "language": "python",
   "name": "python3"
  },
  "language_info": {
   "codemirror_mode": {
    "name": "ipython",
    "version": 3
   },
   "file_extension": ".py",
   "mimetype": "text/x-python",
   "name": "python",
   "nbconvert_exporter": "python",
   "pygments_lexer": "ipython3",
   "version": "3.11.8"
  }
 },
 "nbformat": 4,
 "nbformat_minor": 2
}
